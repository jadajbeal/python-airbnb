{
 "cells": [
  {
   "cell_type": "code",
   "execution_count": 11,
   "metadata": {},
   "outputs": [],
   "source": [
    "import pandas as pd\n",
    "import numpy as np\n",
    "from scipy.stats import norm\n"
   ]
  },
  {
   "cell_type": "code",
   "execution_count": 3,
   "metadata": {},
   "outputs": [],
   "source": [
    "df=pd.read_csv(\"unifiedresults1.csv\")"
   ]
  },
  {
   "cell_type": "code",
   "execution_count": 14,
   "metadata": {},
   "outputs": [],
   "source": [
    "control = df[df['group'] == 'B']"
   ]
  },
  {
   "cell_type": "code",
   "execution_count": 16,
   "metadata": {},
   "outputs": [],
   "source": [
    "p_hat = control['convert'].mean()\n"
   ]
  },
  {
   "cell_type": "code",
   "execution_count": 17,
   "metadata": {},
   "outputs": [],
   "source": [
    "se = np.sqrt(p_hat*(1-p_hat)/len(control))\n"
   ]
  },
  {
   "cell_type": "code",
   "execution_count": 18,
   "metadata": {},
   "outputs": [],
   "source": [
    "z_score = norm.ppf(0.975) \n",
    "ci_low = p_hat - z_score*se\n",
    "ci_high = p_hat + z_score*se"
   ]
  },
  {
   "cell_type": "code",
   "execution_count": 19,
   "metadata": {},
   "outputs": [
    {
     "name": "stdout",
     "output_type": "stream",
     "text": [
      "95% Confidence interval for the conversion rate of users in the treatment: [0.0437, 0.0489]\n"
     ]
    }
   ],
   "source": [
    "print(f\"95% Confidence interval for the conversion rate of users in the treatment: [{ci_low:.4f}, {ci_high:.4f}]\")"
   ]
  },
  {
   "cell_type": "code",
   "execution_count": 23,
   "metadata": {},
   "outputs": [
    {
     "data": {
      "text/plain": [
       "group  spent      \n",
       "A      0.000000       23388\n",
       "       31.000000          3\n",
       "       8.330000           2\n",
       "       13.360000          2\n",
       "       17.630000          2\n",
       "                      ...  \n",
       "B      836.682014         1\n",
       "       872.900000         1\n",
       "       879.100000         1\n",
       "       1094.800000        1\n",
       "       1546.300000        1\n",
       "Name: spent, Length: 2025, dtype: int64"
      ]
     },
     "execution_count": 23,
     "metadata": {},
     "output_type": "execute_result"
    }
   ],
   "source": [
    "df.groupby(\"group\")[\"conver\"].value_counts()"
   ]
  },
  {
   "cell_type": "code",
   "execution_count": 20,
   "metadata": {},
   "outputs": [
    {
     "name": "stdout",
     "output_type": "stream",
     "text": [
      "Test statistic (z-score): 3.864298273006562\n",
      "p-value: 0.00011140901766066886\n"
     ]
    }
   ],
   "source": [
    "import numpy as np\n",
    "import scipy.stats as stats\n",
    "\n",
    "# define data\n",
    "control_conv = 955\n",
    "control_users = 24344\n",
    "treatment_conv = 1139\n",
    "treatment_users = 24601\n",
    "\n",
    "# calculate pooled proportion\n",
    "p_pool = (control_conv + treatment_conv) / (control_users + treatment_users)\n",
    "\n",
    "# calculate standard error\n",
    "se = np.sqrt(p_pool * (1 - p_pool) * (1 / control_users + 1 / treatment_users))\n",
    "\n",
    "# calculate test statistic and p-value\n",
    "p_control = control_conv / control_users\n",
    "p_treatment = treatment_conv / treatment_users\n",
    "z = (p_treatment - p_control) / se\n",
    "p_value = stats.norm.sf(abs(z)) * 2\n",
    "\n",
    "print(\"Test statistic (z-score):\", z)\n",
    "print(\"p-value:\", p_value)\n"
   ]
  },
  {
   "cell_type": "code",
   "execution_count": 24,
   "metadata": {},
   "outputs": [
    {
     "name": "stdout",
     "output_type": "stream",
     "text": [
      "95% confidence interval for the difference in conversion rate: [0.003486, 0.010654]\n"
     ]
    }
   ],
   "source": [
    "import math\n",
    "\n",
    "# calculate conversion rates for treatment and control groups\n",
    "p1 = df[df['group'] == 'B']['convert'].mean()\n",
    "p2 = df[df['group'] == 'A']['convert'].mean()\n",
    "\n",
    "# calculate sample sizes for treatment and control groups\n",
    "n1 =  len(df[df['group'] == 'B'])\n",
    "n2 =  len(df[df['group'] == 'A'])\n",
    "\n",
    "# calculate standard error of the difference in proportions\n",
    "SE = math.sqrt(p1*(1-p1)/n1 + p2*(1-p2)/n2)\n",
    "\n",
    "# calculate confidence interval\n",
    "z = 1.96  # for 95% confidence\n",
    "CI_lower = p1 - p2 - z*SE\n",
    "CI_upper = p1 - p2 + z*SE\n",
    "\n",
    "print(\"95% confidence interval for the difference in conversion rate: [{:.6f}, {:.6f}]\".format(CI_lower, CI_upper))\n"
   ]
  },
  {
   "cell_type": "code",
   "execution_count": null,
   "metadata": {},
   "outputs": [],
   "source": []
  }
 ],
 "metadata": {
  "kernelspec": {
   "display_name": "Python 3",
   "language": "python",
   "name": "python3"
  },
  "language_info": {
   "codemirror_mode": {
    "name": "ipython",
    "version": 3
   },
   "file_extension": ".py",
   "mimetype": "text/x-python",
   "name": "python",
   "nbconvert_exporter": "python",
   "pygments_lexer": "ipython3",
   "version": "3.8.5"
  }
 },
 "nbformat": 4,
 "nbformat_minor": 4
}
